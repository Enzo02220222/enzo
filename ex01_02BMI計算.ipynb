{
  "nbformat": 4,
  "nbformat_minor": 0,
  "metadata": {
    "colab": {
      "provenance": [],
      "authorship_tag": "ABX9TyNjxgLpE3sLtHIY0hjwHxp2",
      "include_colab_link": true
    },
    "kernelspec": {
      "name": "python3",
      "display_name": "Python 3"
    },
    "language_info": {
      "name": "python"
    }
  },
  "cells": [
    {
      "cell_type": "markdown",
      "metadata": {
        "id": "view-in-github",
        "colab_type": "text"
      },
      "source": [
        "<a href=\"https://colab.research.google.com/github/Enzo02220222/enzo/blob/main/ex01_02BMI%E8%A8%88%E7%AE%97.ipynb\" target=\"_parent\"><img src=\"https://colab.research.google.com/assets/colab-badge.svg\" alt=\"Open In Colab\"/></a>"
      ]
    },
    {
      "cell_type": "code",
      "execution_count": 1,
      "metadata": {
        "colab": {
          "base_uri": "https://localhost:8080/"
        },
        "id": "45MBIVPfGq29",
        "outputId": "7e3791cf-0b7a-4954-bdd4-7ec6401ab2a3"
      },
      "outputs": [
        {
          "output_type": "stream",
          "name": "stdout",
          "text": [
            " enter weight(kg) : 63\n",
            " enter height(cm) : 174\n",
            "BMI result :  20.808561236623067\n"
          ]
        }
      ],
      "source": [
        "weight=float(input(\" enter weight(kg) : \"))\n",
        "height=float(input(\" enter height(cm) : \"))\n",
        "print(\"BMI result : \",weight/(height/100)**2)"
      ]
    }
  ]
}