{
  "nbformat": 4,
  "nbformat_minor": 0,
  "metadata": {
    "colab": {
      "provenance": [],
      "authorship_tag": "ABX9TyNBp1ufSG5+BHqfJVywtwlS",
      "include_colab_link": true
    },
    "kernelspec": {
      "name": "python3",
      "display_name": "Python 3"
    },
    "language_info": {
      "name": "python"
    }
  },
  "cells": [
    {
      "cell_type": "markdown",
      "metadata": {
        "id": "view-in-github",
        "colab_type": "text"
      },
      "source": [
        "<a href=\"https://colab.research.google.com/github/Enzo02220222/enzo/blob/main/ex01_02BMI%E8%A8%88%E7%AE%97.ipynb\" target=\"_parent\"><img src=\"https://colab.research.google.com/assets/colab-badge.svg\" alt=\"Open In Colab\"/></a>"
      ]
    },
    {
      "cell_type": "code",
      "execution_count": 4,
      "metadata": {
        "colab": {
          "base_uri": "https://localhost:8080/"
        },
        "id": "45MBIVPfGq29",
        "outputId": "9d909954-4126-4e29-cf67-89ca72ccac43"
      },
      "outputs": [
        {
          "output_type": "stream",
          "name": "stdout",
          "text": [
            " enter weight(kg) : 70\n",
            " enter height(cm) : 171\n",
            "BMI result :  23.9\n"
          ]
        }
      ],
      "source": [
        "weight=float(input(\" enter weight(kg) : \"))\n",
        "height=float(input(\" enter height(cm) : \"))\n",
        "print(\"BMI result : \",round(weight/(height/100)**2,1))"
      ]
    }
  ]
}