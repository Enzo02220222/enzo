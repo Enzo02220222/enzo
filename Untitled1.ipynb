{
  "nbformat": 4,
  "nbformat_minor": 0,
  "metadata": {
    "colab": {
      "provenance": [],
      "authorship_tag": "ABX9TyPpa7SPdSoT1OXggKd2LPJz",
      "include_colab_link": true
    },
    "kernelspec": {
      "name": "python3",
      "display_name": "Python 3"
    },
    "language_info": {
      "name": "python"
    }
  },
  "cells": [
    {
      "cell_type": "markdown",
      "metadata": {
        "id": "view-in-github",
        "colab_type": "text"
      },
      "source": [
        "<a href=\"https://colab.research.google.com/github/Enzo02220222/enzo/blob/main/Untitled1.ipynb\" target=\"_parent\"><img src=\"https://colab.research.google.com/assets/colab-badge.svg\" alt=\"Open In Colab\"/></a>"
      ]
    },
    {
      "cell_type": "markdown",
      "source": [
        "# head1\n",
        "## head2\n",
        "### head3\n",
        "#### head4"
      ],
      "metadata": {
        "id": "7b3deKbd6g_J"
      }
    },
    {
      "cell_type": "markdown",
      "source": [
        "text1\n",
        "\n",
        "text2"
      ],
      "metadata": {
        "id": "Yu8fLhxP7wKo"
      }
    },
    {
      "cell_type": "markdown",
      "source": [
        "- item1\n",
        "  - 1-1\n",
        "  - 1-2\n",
        "- item2"
      ],
      "metadata": {
        "id": "WgdsnAWF72k_"
      }
    },
    {
      "cell_type": "markdown",
      "source": [
        "*a*\n",
        "**a**\n",
        "***a***"
      ],
      "metadata": {
        "id": "aZWlljF-8IdY"
      }
    },
    {
      "cell_type": "markdown",
      "source": [
        "link:[word](link)\n",
        "\n",
        "picture:![word](pic URL)"
      ],
      "metadata": {
        "id": "bhVay-es8qSg"
      }
    },
    {
      "cell_type": "markdown",
      "source": [
        ">introduction\n",
        ">i\n",
        ">i"
      ],
      "metadata": {
        "id": "DuyaDCsz9bZ_"
      }
    },
    {
      "cell_type": "markdown",
      "source": [
        "```\n",
        "print(\"hello world\")\n",
        "```"
      ],
      "metadata": {
        "id": "GlGQoQFu9lfJ"
      }
    },
    {
      "cell_type": "code",
      "execution_count": null,
      "metadata": {
        "id": "7StCxnmn2Fef"
      },
      "outputs": [],
      "source": []
    }
  ]
}