{
  "nbformat": 4,
  "nbformat_minor": 0,
  "metadata": {
    "colab": {
      "provenance": [],
      "authorship_tag": "ABX9TyPpFjCWImQ0e+zR/jawKCZ9",
      "include_colab_link": true
    },
    "kernelspec": {
      "name": "python3",
      "display_name": "Python 3"
    },
    "language_info": {
      "name": "python"
    }
  },
  "cells": [
    {
      "cell_type": "markdown",
      "metadata": {
        "id": "view-in-github",
        "colab_type": "text"
      },
      "source": [
        "<a href=\"https://colab.research.google.com/github/Enzo02220222/enzo/blob/main/ex01_03_paper_scissors_stone.ipynb\" target=\"_parent\"><img src=\"https://colab.research.google.com/assets/colab-badge.svg\" alt=\"Open In Colab\"/></a>"
      ]
    },
    {
      "cell_type": "code",
      "execution_count": 7,
      "metadata": {
        "colab": {
          "base_uri": "https://localhost:8080/"
        },
        "id": "G-elZp06JnuF",
        "outputId": "068eba25-f051-487d-8a3c-98089886d044"
      },
      "outputs": [
        {
          "output_type": "stream",
          "name": "stdout",
          "text": [
            "pick one from 0, 2, 5 : 5\n",
            "You lose\n"
          ]
        }
      ],
      "source": [
        "import random\n",
        "\n",
        "rNum=random.choice([0,2,5])\n",
        "urNum=int(input(\"pick one from 0, 2, 5 : \"))\n",
        "if urNum not in [0,2,5]:\n",
        "  print(\"Invalid input\")\n",
        "  exit()\n",
        "\n",
        "if rNum==urNum:\n",
        "  print(\"Draw\")\n",
        "elif (rNum==0 and urNum==2) or (rNum==2 and urNum==5) or (rNum==5 and urNum==0):\n",
        "  print(\"You lose\")\n",
        "elif (rNum==0 and urNum==5) or (rNum==5 and urNum==2) or (rNum==2 and urNum==0):\n",
        "  print(\"You win\")\n"
      ]
    }
  ]
}