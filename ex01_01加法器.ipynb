{
  "nbformat": 4,
  "nbformat_minor": 0,
  "metadata": {
    "colab": {
      "provenance": [],
      "authorship_tag": "ABX9TyPC+XsfOR0nGyIj6FzWjhE2",
      "include_colab_link": true
    },
    "kernelspec": {
      "name": "python3",
      "display_name": "Python 3"
    },
    "language_info": {
      "name": "python"
    }
  },
  "cells": [
    {
      "cell_type": "markdown",
      "metadata": {
        "id": "view-in-github",
        "colab_type": "text"
      },
      "source": [
        "<a href=\"https://colab.research.google.com/github/Enzo02220222/enzo/blob/main/ex01_01%E5%8A%A0%E6%B3%95%E5%99%A8.ipynb\" target=\"_parent\"><img src=\"https://colab.research.google.com/assets/colab-badge.svg\" alt=\"Open In Colab\"/></a>"
      ]
    },
    {
      "cell_type": "code",
      "execution_count": 2,
      "metadata": {
        "colab": {
          "base_uri": "https://localhost:8080/"
        },
        "id": "uEgMI-9JBqQv",
        "outputId": "6af55838-0be3-4d52-faae-139c3612c6c3"
      },
      "outputs": [
        {
          "output_type": "stream",
          "name": "stdout",
          "text": [
            "enter first num1\n",
            "enter second num4\n",
            "result =  5\n"
          ]
        }
      ],
      "source": [
        "#get num1,num2\n",
        "num1=int(input(\"enter first num : \"))\n",
        "num2=int(input(\"enter second num : \"))\n",
        "#output\n",
        "print(\"result = \",num1+num2)"
      ]
    }
  ]
}